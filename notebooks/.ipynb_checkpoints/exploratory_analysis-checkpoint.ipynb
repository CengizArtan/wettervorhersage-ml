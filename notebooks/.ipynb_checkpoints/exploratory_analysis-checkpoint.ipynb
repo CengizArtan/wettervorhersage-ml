{
 "cells": [
  {
   "cell_type": "code",
   "execution_count": null,
   "id": "d2efe305-c2cb-4593-b308-8c25e0953a46",
   "metadata": {},
   "outputs": [],
   "source": [
    "import pandas as pd\n",
    "import matplotlib.pyplot as plt\n",
    "\n",
    "# Dummy-Daten laden\n",
    "df = pd.read_csv(\"../data/dummy_data.csv\")\n",
    "\n",
    "# Temperaturtrends visualisieren\n",
    "plt.plot(df[\"date\"], df[\"temp\"], label=\"Temperatur\")\n",
    "plt.xlabel(\"Datum\")\n",
    "plt.ylabel(\"Temperatur (°C)\")\n",
    "plt.title(\"Temperaturtrends in Dummy-Daten\")\n",
    "plt.xticks(rotation=45)\n",
    "plt.legend()\n",
    "plt.show()\n",
    "\n",
    "# Temperaturdifferenzen visualisieren\n",
    "plt.bar(df[\"date\"], df[\"temp_diff\"], color=\"orange\", label=\"Temperaturänderung\")\n",
    "plt.xlabel(\"Datum\")\n",
    "plt.ylabel(\"Temperaturdifferenz\")\n",
    "plt.title(\"Temperaturänderungen\")\n",
    "plt.xticks(rotation=45)\n",
    "plt.legend()\n",
    "plt.show()\n",
    "\n"
   ]
  }
 ],
 "metadata": {
  "kernelspec": {
   "display_name": "Python [conda env:base] *",
   "language": "python",
   "name": "conda-base-py"
  },
  "language_info": {
   "codemirror_mode": {
    "name": "ipython",
    "version": 3
   },
   "file_extension": ".py",
   "mimetype": "text/x-python",
   "name": "python",
   "nbconvert_exporter": "python",
   "pygments_lexer": "ipython3",
   "version": "3.12.7"
  }
 },
 "nbformat": 4,
 "nbformat_minor": 5
}
